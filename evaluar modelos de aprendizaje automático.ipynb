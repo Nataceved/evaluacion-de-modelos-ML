{
 "cells": [
  {
   "cell_type": "code",
   "execution_count": 1,
   "metadata": {},
   "outputs": [],
   "source": [
    "y_true = [1, 1, 0, 1, 0, 0, 0, 0, 0, 0]\n",
    "y_pred = [1, 1, 1, 0, 1, 0, 0, 0, 0, 0]"
   ]
  },
  {
   "cell_type": "code",
   "execution_count": 5,
   "metadata": {},
   "outputs": [
    {
     "data": {
      "text/plain": [
       "array([[5, 2],\n",
       "       [1, 2]], dtype=int64)"
      ]
     },
     "execution_count": 5,
     "metadata": {},
     "output_type": "execute_result"
    }
   ],
   "source": [
    "from sklearn.metrics import confusion_matrix\n",
    "confusion_matrix(y_true, y_pred)"
   ]
  },
  {
   "cell_type": "code",
   "execution_count": 10,
   "metadata": {},
   "outputs": [
    {
     "data": {
      "text/plain": [
       "0.5"
      ]
     },
     "execution_count": 10,
     "metadata": {},
     "output_type": "execute_result"
    }
   ],
   "source": [
    "from sklearn.metrics import precision_score \n",
    "precision_score(y_true, y_pred)"
   ]
  },
  {
   "cell_type": "code",
   "execution_count": 13,
   "metadata": {},
   "outputs": [
    {
     "name": "stdout",
     "output_type": "stream",
     "text": [
      "0.5\n"
     ]
    }
   ],
   "source": [
    "from sklearn.metrics import precision_score\n",
    "\n",
    "positive = precision_score(y_true, y_pred, pos_label=1)\n",
    "print(positive)\n"
   ]
  },
  {
   "cell_type": "code",
   "execution_count": 14,
   "metadata": {},
   "outputs": [
    {
     "name": "stdout",
     "output_type": "stream",
     "text": [
      "0.8333333333333334\n"
     ]
    }
   ],
   "source": [
    "negative = precision_score(y_true, y_pred, pos_label=0)\n",
    "print(negative)"
   ]
  },
  {
   "cell_type": "code",
   "execution_count": 15,
   "metadata": {},
   "outputs": [
    {
     "name": "stdout",
     "output_type": "stream",
     "text": [
      "0.6666666666666666\n",
      "0.7142857142857143\n"
     ]
    }
   ],
   "source": [
    "from sklearn.metrics import recall_score\n",
    "positive = recall_score(y_true, y_pred, pos_label=1)\n",
    "print(positive)\n",
    "\n",
    "negative = recall_score(y_true, y_pred, pos_label=0)\n",
    "print(negative)"
   ]
  },
  {
   "cell_type": "code",
   "execution_count": 16,
   "metadata": {},
   "outputs": [
    {
     "name": "stdout",
     "output_type": "stream",
     "text": [
      "0.5714285714285715\n",
      "0.7692307692307692\n"
     ]
    }
   ],
   "source": [
    "from sklearn.metrics import f1_score\n",
    "postive = f1_score(y_true, y_pred, pos_label=1)\n",
    "print(postive)\n",
    "\n",
    "negative = f1_score(y_true, y_pred, pos_label=0)\n",
    "print(negative)\n"
   ]
  },
  {
   "cell_type": "code",
   "execution_count": 18,
   "metadata": {},
   "outputs": [
    {
     "name": "stdout",
     "output_type": "stream",
     "text": [
      "Clusters  0  1  2\n",
      "Labels           \n",
      "a         2  2  0\n",
      "b         0  4  0\n",
      "c         0  1  3\n"
     ]
    }
   ],
   "source": [
    "import pandas as pd\n",
    "labels=['a','b','c',\n",
    "           'a','b','c',\n",
    "           'a','b','c',\n",
    "           'a','b','c']\n",
    "pred=[  1,1,2,\n",
    "           0,1,2,\n",
    "           1,1,1,\n",
    "           0,1,2]   \n",
    "\n",
    "# Create a DataFrame with labels and varieties as columns: df\n",
    "df = pd.DataFrame({'Labels': labels, 'Clusters': pred})\n",
    "\n",
    "# Create crosstab: ct\n",
    "ct = pd.crosstab(df['Labels'], df['Clusters'])\n",
    "\n",
    "# Display ct\n",
    "print(ct)"
   ]
  },
  {
   "cell_type": "code",
   "execution_count": 19,
   "metadata": {},
   "outputs": [
    {
     "data": {
      "text/plain": [
       "array([[3, 0, 0],\n",
       "       [0, 1, 2],\n",
       "       [2, 1, 3]], dtype=int64)"
      ]
     },
     "execution_count": 19,
     "metadata": {},
     "output_type": "execute_result"
    }
   ],
   "source": [
    "from sklearn.metrics import confusion_matrix\n",
    "y_actu = [2, 0, 2, 2, 0, 1, 1, 2, 2, 0, 1, 2]\n",
    "y_pred = [0, 0, 2, 1, 0, 2, 1, 0, 2, 0, 2, 2]\n",
    "confusion_matrix(y_actu, y_pred)"
   ]
  },
  {
   "cell_type": "code",
   "execution_count": 22,
   "metadata": {},
   "outputs": [
    {
     "data": {
      "text/html": [
       "<div>\n",
       "<style scoped>\n",
       "    .dataframe tbody tr th:only-of-type {\n",
       "        vertical-align: middle;\n",
       "    }\n",
       "\n",
       "    .dataframe tbody tr th {\n",
       "        vertical-align: top;\n",
       "    }\n",
       "\n",
       "    .dataframe thead th {\n",
       "        text-align: right;\n",
       "    }\n",
       "</style>\n",
       "<table border=\"1\" class=\"dataframe\">\n",
       "  <thead>\n",
       "    <tr style=\"text-align: right;\">\n",
       "      <th>Predicted</th>\n",
       "      <th>0</th>\n",
       "      <th>1</th>\n",
       "      <th>2</th>\n",
       "    </tr>\n",
       "    <tr>\n",
       "      <th>Actual</th>\n",
       "      <th></th>\n",
       "      <th></th>\n",
       "      <th></th>\n",
       "    </tr>\n",
       "  </thead>\n",
       "  <tbody>\n",
       "    <tr>\n",
       "      <td>0</td>\n",
       "      <td>3</td>\n",
       "      <td>0</td>\n",
       "      <td>0</td>\n",
       "    </tr>\n",
       "    <tr>\n",
       "      <td>1</td>\n",
       "      <td>0</td>\n",
       "      <td>1</td>\n",
       "      <td>2</td>\n",
       "    </tr>\n",
       "    <tr>\n",
       "      <td>2</td>\n",
       "      <td>2</td>\n",
       "      <td>1</td>\n",
       "      <td>3</td>\n",
       "    </tr>\n",
       "  </tbody>\n",
       "</table>\n",
       "</div>"
      ],
      "text/plain": [
       "Predicted  0  1  2\n",
       "Actual            \n",
       "0          3  0  0\n",
       "1          0  1  2\n",
       "2          2  1  3"
      ]
     },
     "execution_count": 22,
     "metadata": {},
     "output_type": "execute_result"
    }
   ],
   "source": [
    "import pandas as pd\n",
    "y_actu = pd.Series([2, 0, 2, 2, 0, 1, 1, 2, 2, 0, 1, 2], name='Actual')\n",
    "y_pred = pd.Series([0, 0, 2, 1, 0, 2, 1, 0, 2, 0, 2, 2], name='Predicted')\n",
    "df_confusion = pd.crosstab(y_actu, y_pred)\n",
    "df_confusion"
   ]
  },
  {
   "cell_type": "code",
   "execution_count": 25,
   "metadata": {},
   "outputs": [
    {
     "data": {
      "text/html": [
       "<div>\n",
       "<style scoped>\n",
       "    .dataframe tbody tr th:only-of-type {\n",
       "        vertical-align: middle;\n",
       "    }\n",
       "\n",
       "    .dataframe tbody tr th {\n",
       "        vertical-align: top;\n",
       "    }\n",
       "\n",
       "    .dataframe thead th {\n",
       "        text-align: right;\n",
       "    }\n",
       "</style>\n",
       "<table border=\"1\" class=\"dataframe\">\n",
       "  <thead>\n",
       "    <tr style=\"text-align: right;\">\n",
       "      <th>Predicted</th>\n",
       "      <th>0</th>\n",
       "      <th>1</th>\n",
       "      <th>2</th>\n",
       "      <th>All</th>\n",
       "    </tr>\n",
       "    <tr>\n",
       "      <th>Actual</th>\n",
       "      <th></th>\n",
       "      <th></th>\n",
       "      <th></th>\n",
       "      <th></th>\n",
       "    </tr>\n",
       "  </thead>\n",
       "  <tbody>\n",
       "    <tr>\n",
       "      <td>0</td>\n",
       "      <td>3</td>\n",
       "      <td>0</td>\n",
       "      <td>0</td>\n",
       "      <td>3</td>\n",
       "    </tr>\n",
       "    <tr>\n",
       "      <td>1</td>\n",
       "      <td>0</td>\n",
       "      <td>1</td>\n",
       "      <td>2</td>\n",
       "      <td>3</td>\n",
       "    </tr>\n",
       "    <tr>\n",
       "      <td>2</td>\n",
       "      <td>2</td>\n",
       "      <td>1</td>\n",
       "      <td>3</td>\n",
       "      <td>6</td>\n",
       "    </tr>\n",
       "    <tr>\n",
       "      <td>All</td>\n",
       "      <td>5</td>\n",
       "      <td>2</td>\n",
       "      <td>5</td>\n",
       "      <td>12</td>\n",
       "    </tr>\n",
       "  </tbody>\n",
       "</table>\n",
       "</div>"
      ],
      "text/plain": [
       "Predicted  0  1  2  All\n",
       "Actual                 \n",
       "0          3  0  0    3\n",
       "1          0  1  2    3\n",
       "2          2  1  3    6\n",
       "All        5  2  5   12"
      ]
     },
     "execution_count": 25,
     "metadata": {},
     "output_type": "execute_result"
    }
   ],
   "source": [
    "df_confusion = pd.crosstab(y_actu, y_pred, rownames=['Actual'], colnames=['Predicted'], margins=True)\n",
    "df_confusion"
   ]
  },
  {
   "cell_type": "code",
   "execution_count": 26,
   "metadata": {},
   "outputs": [
    {
     "data": {
      "text/html": [
       "<div>\n",
       "<style scoped>\n",
       "    .dataframe tbody tr th:only-of-type {\n",
       "        vertical-align: middle;\n",
       "    }\n",
       "\n",
       "    .dataframe tbody tr th {\n",
       "        vertical-align: top;\n",
       "    }\n",
       "\n",
       "    .dataframe thead th {\n",
       "        text-align: right;\n",
       "    }\n",
       "</style>\n",
       "<table border=\"1\" class=\"dataframe\">\n",
       "  <thead>\n",
       "    <tr style=\"text-align: right;\">\n",
       "      <th>Predicted</th>\n",
       "      <th>0</th>\n",
       "      <th>1</th>\n",
       "      <th>2</th>\n",
       "      <th>All</th>\n",
       "    </tr>\n",
       "    <tr>\n",
       "      <th>Actual</th>\n",
       "      <th></th>\n",
       "      <th></th>\n",
       "      <th></th>\n",
       "      <th></th>\n",
       "    </tr>\n",
       "  </thead>\n",
       "  <tbody>\n",
       "    <tr>\n",
       "      <td>0</td>\n",
       "      <td>0.500000</td>\n",
       "      <td>0.000000</td>\n",
       "      <td>0.000000</td>\n",
       "      <td>0.125</td>\n",
       "    </tr>\n",
       "    <tr>\n",
       "      <td>1</td>\n",
       "      <td>0.000000</td>\n",
       "      <td>0.166667</td>\n",
       "      <td>0.166667</td>\n",
       "      <td>0.125</td>\n",
       "    </tr>\n",
       "    <tr>\n",
       "      <td>2</td>\n",
       "      <td>0.333333</td>\n",
       "      <td>0.166667</td>\n",
       "      <td>0.250000</td>\n",
       "      <td>0.250</td>\n",
       "    </tr>\n",
       "    <tr>\n",
       "      <td>All</td>\n",
       "      <td>0.833333</td>\n",
       "      <td>0.333333</td>\n",
       "      <td>0.416667</td>\n",
       "      <td>0.500</td>\n",
       "    </tr>\n",
       "  </tbody>\n",
       "</table>\n",
       "</div>"
      ],
      "text/plain": [
       "Predicted         0         1         2    All\n",
       "Actual                                        \n",
       "0          0.500000  0.000000  0.000000  0.125\n",
       "1          0.000000  0.166667  0.166667  0.125\n",
       "2          0.333333  0.166667  0.250000  0.250\n",
       "All        0.833333  0.333333  0.416667  0.500"
      ]
     },
     "execution_count": 26,
     "metadata": {},
     "output_type": "execute_result"
    }
   ],
   "source": [
    "#También puede obtener una matriz de confusión normalizada usando:\n",
    "\n",
    "df_conf_norm = df_confusion / df_confusion.sum(axis=1)\n",
    "df_conf_norm"
   ]
  },
  {
   "cell_type": "code",
   "execution_count": 28,
   "metadata": {},
   "outputs": [
    {
     "data": {
      "image/png": "[encoded data removed]",
      "text/plain": [
       "<Figure size 288x288 with 2 Axes>"
      ]
     },
     "metadata": {
      "needs_background": "light"
     },
     "output_type": "display_data"
    }
   ],
   "source": [
    "#Puede trazar esta confusión_matriz utilizando\n",
    "import numpy as np\n",
    "\n",
    "import matplotlib.pyplot as plt\n",
    "def plot_confusion_matrix(df_confusion, title='Confusion matrix', cmap=plt.cm.gray_r):\n",
    "    plt.matshow(df_confusion, cmap=cmap) # imshow\n",
    "    #plt.title(title)\n",
    "    plt.colorbar()\n",
    "    tick_marks = np.arange(len(df_confusion.columns))\n",
    "    plt.xticks(tick_marks, df_confusion.columns, rotation=45)\n",
    "    plt.yticks(tick_marks, df_confusion.index)\n",
    "    #plt.tight_layout()\n",
    "    plt.ylabel(df_confusion.index.name)\n",
    "    plt.xlabel(df_confusion.columns.name)\n",
    "\n",
    "plot_confusion_matrix(df_confusion)"
   ]
  },
  {
   "cell_type": "code",
   "execution_count": 29,
   "metadata": {},
   "outputs": [
    {
     "data": {
      "image/png": "[encoded data removed]",
      "text/plain": [
       "<Figure size 288x288 with 2 Axes>"
      ]
     },
     "metadata": {
      "needs_background": "light"
     },
     "output_type": "display_data"
    }
   ],
   "source": [
    "#O trazar una matriz de confusión normalizada usando:\n",
    "\n",
    "plot_confusion_matrix(df_conf_norm)  "
   ]
  },
  {
   "cell_type": "code",
   "execution_count": 30,
   "metadata": {},
   "outputs": [
    {
     "ename": "SyntaxError",
     "evalue": "invalid syntax (<ipython-input-30-ade64c471cee>, line 1)",
     "output_type": "error",
     "traceback": [
      "\u001b[1;36m  File \u001b[1;32m\"<ipython-input-30-ade64c471cee>\"\u001b[1;36m, line \u001b[1;32m1\u001b[0m\n\u001b[1;33m    EJEMPLOS PERROS GATOS\u001b[0m\n\u001b[1;37m                  ^\u001b[0m\n\u001b[1;31mSyntaxError\u001b[0m\u001b[1;31m:\u001b[0m invalid syntax\n"
     ]
    }
   ],
   "source": [
    "#EJEMPLOS PERROS GATOS"
   ]
  },
  {
   "cell_type": "code",
   "execution_count": 1,
   "metadata": {},
   "outputs": [
    {
     "name": "stdout",
     "output_type": "stream",
     "text": [
      "[1, 1, 1, 1, 1, 1, 1, 1, 1, 1, 0, 0, 0, 0, 0, 0, 0, 0, 0, 0]\n",
      "[1, 1, 1, 1, 1, 1, 1, 1, 1, 0, 1, 1, 0, 0, 0, 0, 0, 0, 0, 0]\n"
     ]
    }
   ],
   "source": [
    "actual_a = [1 for n in range(10)] + [0 for n in range(10)]\n",
    "predicted_a = [1 for n in range(9)] + [0, 1, 1] + [0 for n in range(8)]\n",
    "print(actual_a)\n",
    "print(predicted_a)\n",
    "\n"
   ]
  },
  {
   "cell_type": "code",
   "execution_count": 4,
   "metadata": {},
   "outputs": [
    {
     "data": {
      "text/html": [
       "<div>\n",
       "<style scoped>\n",
       "    .dataframe tbody tr th:only-of-type {\n",
       "        vertical-align: middle;\n",
       "    }\n",
       "\n",
       "    .dataframe tbody tr th {\n",
       "        vertical-align: top;\n",
       "    }\n",
       "\n",
       "    .dataframe thead th {\n",
       "        text-align: right;\n",
       "    }\n",
       "</style>\n",
       "<table border=\"1\" class=\"dataframe\">\n",
       "  <thead>\n",
       "    <tr style=\"text-align: right;\">\n",
       "      <th></th>\n",
       "      <th>X</th>\n",
       "      <th>Animal 1</th>\n",
       "      <th>Animal 2</th>\n",
       "      <th>Animal 3</th>\n",
       "      <th>Animal 4</th>\n",
       "      <th>Animal 5</th>\n",
       "      <th>Animal 6</th>\n",
       "      <th>Animal 7</th>\n",
       "      <th>Animal 8</th>\n",
       "      <th>Animal 9</th>\n",
       "      <th>...</th>\n",
       "      <th>Animal 11</th>\n",
       "      <th>Animal 12</th>\n",
       "      <th>Animal 13</th>\n",
       "      <th>Animal 14</th>\n",
       "      <th>Animal 15</th>\n",
       "      <th>Animal 16</th>\n",
       "      <th>Animal 17</th>\n",
       "      <th>Animal 18</th>\n",
       "      <th>Animal 19</th>\n",
       "      <th>Animal 20</th>\n",
       "    </tr>\n",
       "  </thead>\n",
       "  <tbody>\n",
       "    <tr>\n",
       "      <td>0</td>\n",
       "      <td>REAL</td>\n",
       "      <td>🐱</td>\n",
       "      <td>🐱</td>\n",
       "      <td>🐱</td>\n",
       "      <td>🐱</td>\n",
       "      <td>🐱</td>\n",
       "      <td>🐱</td>\n",
       "      <td>🐱</td>\n",
       "      <td>🐱</td>\n",
       "      <td>🐱</td>\n",
       "      <td>...</td>\n",
       "      <td>🐕</td>\n",
       "      <td>🐕</td>\n",
       "      <td>🐕</td>\n",
       "      <td>🐕</td>\n",
       "      <td>🐕</td>\n",
       "      <td>🐕</td>\n",
       "      <td>🐕</td>\n",
       "      <td>🐕</td>\n",
       "      <td>🐕</td>\n",
       "      <td>🐕</td>\n",
       "    </tr>\n",
       "    <tr>\n",
       "      <td>1</td>\n",
       "      <td>PREDICHO</td>\n",
       "      <td>🐱</td>\n",
       "      <td>🐱</td>\n",
       "      <td>🐱</td>\n",
       "      <td>🐱</td>\n",
       "      <td>🐱</td>\n",
       "      <td>🐱</td>\n",
       "      <td>🐱</td>\n",
       "      <td>🐱</td>\n",
       "      <td>🐱</td>\n",
       "      <td>...</td>\n",
       "      <td>🐱</td>\n",
       "      <td>🐱</td>\n",
       "      <td>🐕</td>\n",
       "      <td>🐕</td>\n",
       "      <td>🐕</td>\n",
       "      <td>🐕</td>\n",
       "      <td>🐕</td>\n",
       "      <td>🐕</td>\n",
       "      <td>🐕</td>\n",
       "      <td>🐕</td>\n",
       "    </tr>\n",
       "  </tbody>\n",
       "</table>\n",
       "<p>2 rows × 21 columns</p>\n",
       "</div>"
      ],
      "text/plain": [
       "          X Animal 1 Animal 2 Animal 3 Animal 4 Animal 5 Animal 6 Animal 7  \\\n",
       "0     REAL         🐱        🐱        🐱        🐱        🐱        🐱        🐱   \n",
       "1  PREDICHO        🐱        🐱        🐱        🐱        🐱        🐱        🐱   \n",
       "\n",
       "  Animal 8 Animal 9  ... Animal 11 Animal 12 Animal 13 Animal 14 Animal 15  \\\n",
       "0        🐱        🐱  ...         🐕         🐕         🐕         🐕         🐕   \n",
       "1        🐱        🐱  ...         🐱         🐱         🐕         🐕         🐕   \n",
       "\n",
       "  Animal 16 Animal 17 Animal 18 Animal 19 Animal 20  \n",
       "0         🐕         🐕         🐕         🐕         🐕  \n",
       "1         🐕         🐕         🐕         🐕         🐕  \n",
       "\n",
       "[2 rows x 21 columns]"
      ]
     },
     "execution_count": 4,
     "metadata": {},
     "output_type": "execute_result"
    }
   ],
   "source": [
    "import pandas as pd\n",
    "df = pd.read_csv('catis - Hoja 1.csv')\n",
    "df"
   ]
  },
  {
   "cell_type": "code",
   "execution_count": 5,
   "metadata": {},
   "outputs": [
    {
     "data": {
      "text/plain": [
       "array([[8, 2],\n",
       "       [1, 9]], dtype=int64)"
      ]
     },
     "execution_count": 5,
     "metadata": {},
     "output_type": "execute_result"
    }
   ],
   "source": [
    "from sklearn.metrics import confusion_matrix\n",
    "confusion_matrix(actual_a, predicted_a)"
   ]
  },
  {
   "cell_type": "code",
   "execution_count": 40,
   "metadata": {},
   "outputs": [
    {
     "data": {
      "text/plain": [
       "0.8181818181818182"
      ]
     },
     "execution_count": 40,
     "metadata": {},
     "output_type": "execute_result"
    }
   ],
   "source": [
    "from sklearn.metrics import precision_score \n",
    "precision_score(actual_a, predicted_a)"
   ]
  },
  {
   "cell_type": "code",
   "execution_count": 41,
   "metadata": {},
   "outputs": [
    {
     "name": "stdout",
     "output_type": "stream",
     "text": [
      "0.8181818181818182\n",
      "0.8888888888888888\n"
     ]
    }
   ],
   "source": [
    "from sklearn.metrics import precision_score\n",
    "positive = precision_score(actual_a, predicted_a, pos_label=1)\n",
    "print(positive)\n",
    "\n",
    "negative = precision_score(actual_a, predicted_a, pos_label=0)\n",
    "print(negative)\n"
   ]
  },
  {
   "cell_type": "code",
   "execution_count": 36,
   "metadata": {},
   "outputs": [
    {
     "name": "stdout",
     "output_type": "stream",
     "text": [
      "my Recall A: 0.9\n",
      "sklearn Recall A: 0.9\n"
     ]
    }
   ],
   "source": [
    "# Recall\n",
    "from sklearn.metrics import recall_score\n",
    "\n",
    "def my_recall_score(actual, predicted):\n",
    "    true_positives = len([a for a, p in zip(actual, predicted) if a == p and p == 1])\n",
    "    false_negatives = len([a for a, p in zip(actual, predicted) if a != p and p == 0])\n",
    "    return true_positives / (true_positives + false_negatives)\n",
    "\n",
    "print(\"my Recall A:\", my_recall_score(actual_a, predicted_a))\n",
    "print(\"sklearn Recall A:\", recall_score(actual_a, predicted_a))"
   ]
  },
  {
   "cell_type": "code",
   "execution_count": 42,
   "metadata": {},
   "outputs": [
    {
     "name": "stdout",
     "output_type": "stream",
     "text": [
      "0.9\n",
      "0.8\n"
     ]
    }
   ],
   "source": [
    "from sklearn.metrics import recall_score\n",
    "positive = recall_score(actual_a, predicted_a, pos_label=1)\n",
    "print(positive)\n",
    "\n",
    "negative = recall_score(actual_a, predicted_a, pos_label=0)\n",
    "print(negative)"
   ]
  },
  {
   "cell_type": "code",
   "execution_count": 37,
   "metadata": {},
   "outputs": [
    {
     "name": "stdout",
     "output_type": "stream",
     "text": [
      "my F1 Score A: 0.8571428571428572\n",
      "sklearn F1 Score A: 0.8571428571428572\n"
     ]
    }
   ],
   "source": [
    "# F1 Score\n",
    "from sklearn.metrics import f1_score\n",
    "\n",
    "# Harmonic mean of (a, b) is 2 * (a * b) / (a + b)\n",
    "def my_f1_score(actual, predicted):\n",
    "    return 2 * (my_precision_score(actual, predicted) * my_recall_score(actual, predicted)) / (my_precision_score(actual, predicted) + my_recall_score(actual, predicted))\n",
    "\n",
    "print(\"my F1 Score A:\", my_f1_score(actual_a, predicted_a))\n",
    "print(\"sklearn F1 Score A:\", f1_score(actual_a, predicted_a))"
   ]
  },
  {
   "cell_type": "code",
   "execution_count": 43,
   "metadata": {},
   "outputs": [
    {
     "name": "stdout",
     "output_type": "stream",
     "text": [
      "0.5714285714285715\n",
      "0.8421052631578948\n"
     ]
    }
   ],
   "source": [
    "Postive = f1_score (actual_a, predicted_a, pos_label = 1) \n",
    "print (postive) \n",
    "negativo = f1_score (actual_a, predicted_a, pos_label = 0) \n",
    "print (negativo) "
   ]
  },
  {
   "cell_type": "code",
   "execution_count": 38,
   "metadata": {},
   "outputs": [
    {
     "name": "stdout",
     "output_type": "stream",
     "text": [
      "sklearn ROC AUC Score A: 0.85\n"
     ]
    },
    {
     "data": {
      "image/png": "[encoded data removed]",
      "text/plain": [
       "<Figure size 432x288 with 1 Axes>"
      ]
     },
     "metadata": {
      "needs_background": "light"
     },
     "output_type": "display_data"
    }
   ],
   "source": [
    "#ROC\n",
    "from sklearn.metrics import roc_auc_score\n",
    "from sklearn.metrics import roc_curve\n",
    "import matplotlib.pyplot as plt\n",
    "\n",
    "print(\"sklearn ROC AUC Score A:\", roc_auc_score(actual_a, predicted_a))\n",
    "fpr, tpr, _ = roc_curve(actual_a, predicted_a)\n",
    "plt.figure()\n",
    "plt.plot(fpr, tpr, color='darkorange',\n",
    "         lw=2, label='ROC curve')\n",
    "plt.plot([0, 1], [0, 1], color='navy', lw=2, linestyle='--') #center line\n",
    "plt.xlim([0.0, 1.0])\n",
    "plt.ylim([0.0, 1.05])\n",
    "plt.xlabel('False Positive Rate')\n",
    "plt.ylabel('True Positive Rate')\n",
    "plt.title('Receiver operating characteristic example')\n",
    "plt.legend(loc=\"lower right\")\n",
    "plt.show()"
   ]
  },
  {
   "cell_type": "code",
   "execution_count": null,
   "metadata": {},
   "outputs": [],
   "source": []
  }
 ],
 "metadata": {
  "kernelspec": {
   "display_name": "Python 3",
   "language": "python",
   "name": "python3"
  },
  "language_info": {
   "codemirror_mode": {
    "name": "ipython",
    "version": 3
   },
   "file_extension": ".py",
   "mimetype": "text/x-python",
   "name": "python",
   "nbconvert_exporter": "python",
   "pygments_lexer": "ipython3",
   "version": "3.7.4"
  }
 },
 "nbformat": 4,
 "nbformat_minor": 2
}
